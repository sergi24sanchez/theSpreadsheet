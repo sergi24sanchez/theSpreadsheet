{
 "cells": [
  {
   "cell_type": "code",
   "execution_count": 1,
   "id": "249b854e-3a9b-4294-bdca-c64fd15fc4b1",
   "metadata": {},
   "outputs": [],
   "source": [
    "numrows=3"
   ]
  },
  {
   "cell_type": "code",
   "execution_count": 2,
   "id": "79c0529b-864e-43b6-98a6-234688fdbefc",
   "metadata": {},
   "outputs": [
    {
     "name": "stdout",
     "output_type": "stream",
     "text": [
      "1\n",
      "2\n",
      "3\n"
     ]
    }
   ],
   "source": [
    "for row in (range(numrows)):\n",
    "    print(row+1)"
   ]
  },
  {
   "cell_type": "code",
   "execution_count": 3,
   "id": "83e0a1fd-645a-4414-8682-747647f62e02",
   "metadata": {},
   "outputs": [
    {
     "data": {
      "text/plain": [
       "int"
      ]
     },
     "execution_count": 3,
     "metadata": {},
     "output_type": "execute_result"
    }
   ],
   "source": [
    "type(row)"
   ]
  },
  {
   "cell_type": "code",
   "execution_count": 4,
   "id": "bd84b2a4-d147-4994-83c2-2058d9c7a246",
   "metadata": {},
   "outputs": [],
   "source": [
    "def column_letter_to_number(column_letter):\n",
    "    \"\"\"Converts an Excel column letter to a column number.\n",
    "\n",
    "    Args:\n",
    "        column_letter: The column letter to convert.\n",
    "\n",
    "    Returns:\n",
    "        The column number.\n",
    "    \"\"\"\n",
    "    column_number = 0\n",
    "    for c in column_letter:\n",
    "        if c in string.ascii_letters:\n",
    "            column_number = column_number * 26 + (ord(c.upper()) - ord('A')) + 1\n",
    "    return column_number\n",
    "\n",
    "def column_number_to_letter(column_number):\n",
    "    \"\"\"Converts a column number to an Excel column letter.\n",
    "\n",
    "    Args:\n",
    "        column_number: The column number to convert.\n",
    "\n",
    "    Returns:\n",
    "        The column letter.\n",
    "    \"\"\"\n",
    "    column_letter = \"\"\n",
    "    while column_number > 0:\n",
    "        column_number, remainder = divmod(column_number - 1, 26)\n",
    "        column_letter = chr(65 + remainder) + column_letter\n",
    "    return column_letter\n"
   ]
  },
  {
   "cell_type": "code",
   "execution_count": 5,
   "id": "ba6ddc2a-a79c-4c2e-b006-6f78a122e6c8",
   "metadata": {},
   "outputs": [
    {
     "data": {
      "text/plain": [
       "'A'"
      ]
     },
     "execution_count": 5,
     "metadata": {},
     "output_type": "execute_result"
    }
   ],
   "source": [
    "column_number_to_letter(0+1)"
   ]
  },
  {
   "cell_type": "code",
   "execution_count": 6,
   "id": "ff98d29b-9309-4aba-927a-13c38e94900e",
   "metadata": {},
   "outputs": [],
   "source": [
    "import pandas as pd"
   ]
  },
  {
   "cell_type": "code",
   "execution_count": 7,
   "id": "2704fc3e-7843-4aff-ad26-7b44e162adab",
   "metadata": {},
   "outputs": [],
   "source": [
    "cols = []\n",
    "for col in range(3):\n",
    "    cols.append(column_number_to_letter(col+1))"
   ]
  },
  {
   "cell_type": "code",
   "execution_count": 8,
   "id": "8d0f372f-c88e-4bfb-a45e-f5a607df2588",
   "metadata": {},
   "outputs": [],
   "source": [
    "df = pd.DataFrame(index=range(1,numrows+1), columns=cols)\n"
   ]
  },
  {
   "cell_type": "code",
   "execution_count": 9,
   "id": "6e7c8313-fc9e-4ad1-be93-0ea7389f0054",
   "metadata": {},
   "outputs": [
    {
     "name": "stdout",
     "output_type": "stream",
     "text": [
      "     A    B    C\n",
      "1  NaN  NaN  NaN\n",
      "2  NaN  NaN  NaN\n",
      "3  NaN  NaN  NaN\n"
     ]
    }
   ],
   "source": [
    "print(df)"
   ]
  },
  {
   "cell_type": "code",
   "execution_count": null,
   "id": "73ef5e4c-3fbb-48cb-b6fb-707834f9881b",
   "metadata": {},
   "outputs": [],
   "source": [
    "f= open(\"guru99.txt\",\"w+\")\n",
    "for i in range(10):\n",
    "     f.write(txt)\n",
    "f.close()"
   ]
  },
  {
   "cell_type": "code",
   "execution_count": null,
   "id": "41d262c6-4326-4cb8-ab3e-38b752fadfd0",
   "metadata": {},
   "outputs": [],
   "source": [
    "f"
   ]
  },
  {
   "cell_type": "code",
   "execution_count": null,
   "id": "d4705071-b356-4b12-a9fe-60b071cd9a6d",
   "metadata": {},
   "outputs": [],
   "source": [
    "for i in range(10):\n",
    "     f.write(\"This is line\\n\")"
   ]
  },
  {
   "cell_type": "code",
   "execution_count": null,
   "id": "da30c905-94d7-43f4-9941-44c3ea5541c5",
   "metadata": {},
   "outputs": [],
   "source": [
    "f.close()\n"
   ]
  },
  {
   "cell_type": "code",
   "execution_count": null,
   "id": "d79bbf63-694e-4688-b40c-560e6354bb38",
   "metadata": {},
   "outputs": [],
   "source": [
    "df.at[1,'A'] = '=C1+C2'\n",
    "df.at[1,'B'] = '4'\n",
    "df.at[1,'C'] = '1'\n",
    "df.at[2,'C'] = '2'\n",
    "df.at[3,'C'] = '=A1+B1' \n",
    "df.at[3,'B'] = 'TOTAL'"
   ]
  },
  {
   "cell_type": "code",
   "execution_count": 14,
   "id": "13e95ee9-d536-4e86-a44d-43348dedbb82",
   "metadata": {
    "collapsed": true,
    "jupyter": {
     "outputs_hidden": true
    },
    "tags": []
   },
   "outputs": [
    {
     "name": "stdout",
     "output_type": "stream",
     "text": [
      "nan\n",
      "awa\n",
      "<class 'str'>\n",
      "nan\n",
      "awa\n",
      "<class 'str'>\n",
      "nan\n",
      "awa\n",
      "<class 'str'>\n",
      "nan\n",
      "awa\n",
      "<class 'str'>\n",
      "nan\n",
      "awa\n",
      "<class 'str'>\n",
      "nan\n",
      "awa\n",
      "<class 'str'>\n",
      "nan\n",
      "awa\n",
      "<class 'str'>\n",
      "nan\n",
      "awa\n",
      "<class 'str'>\n",
      "nan\n",
      "awa\n",
      "<class 'str'>\n"
     ]
    }
   ],
   "source": [
    "for i, row in df.iterrows():\n",
    "    for j, cell in row.items():\n",
    "        print(str((cell)))\n",
    "        if (str(cell) == ('nan')) or ((cell) == 'NaN') or ((cell) == ('nan')):\n",
    "            print('awa')\n",
    "            cell = str('')\n",
    "            print(type(cell))"
   ]
  },
  {
   "cell_type": "code",
   "execution_count": null,
   "id": "989a0f12-95a2-426f-b8b4-0cd4a995ae0c",
   "metadata": {},
   "outputs": [],
   "source": [
    "for index, row in df.iterrows():\n",
    "    for col in row.items():\n",
    "        if (str(col) == None) or (str(col) == 'NaN') or (str(col) == ('nan')):\n",
    "            row[col] = ''"
   ]
  },
  {
   "cell_type": "code",
   "execution_count": null,
   "id": "562c9e2f-bda3-4e7d-9cd8-74625c058d74",
   "metadata": {},
   "outputs": [],
   "source": [
    "for index, row in df.iterrows():\n",
    "    for col in ['A', 'B' , 'C']:\n",
    "        if (str(row[col]) == None) or (str(row[col]) == 'NaN') or (str(row[col]) == ('nan')):\n",
    "            row[col] = ''"
   ]
  },
  {
   "cell_type": "code",
   "execution_count": 13,
   "id": "253507aa-5574-4f8c-9da3-f729aa8f1982",
   "metadata": {},
   "outputs": [
    {
     "data": {
      "text/html": [
       "<div>\n",
       "<style scoped>\n",
       "    .dataframe tbody tr th:only-of-type {\n",
       "        vertical-align: middle;\n",
       "    }\n",
       "\n",
       "    .dataframe tbody tr th {\n",
       "        vertical-align: top;\n",
       "    }\n",
       "\n",
       "    .dataframe thead th {\n",
       "        text-align: right;\n",
       "    }\n",
       "</style>\n",
       "<table border=\"1\" class=\"dataframe\">\n",
       "  <thead>\n",
       "    <tr style=\"text-align: right;\">\n",
       "      <th></th>\n",
       "      <th>A</th>\n",
       "      <th>B</th>\n",
       "      <th>C</th>\n",
       "    </tr>\n",
       "  </thead>\n",
       "  <tbody>\n",
       "    <tr>\n",
       "      <th>1</th>\n",
       "      <td>NaN</td>\n",
       "      <td>NaN</td>\n",
       "      <td>NaN</td>\n",
       "    </tr>\n",
       "    <tr>\n",
       "      <th>2</th>\n",
       "      <td>NaN</td>\n",
       "      <td>NaN</td>\n",
       "      <td>NaN</td>\n",
       "    </tr>\n",
       "    <tr>\n",
       "      <th>3</th>\n",
       "      <td>NaN</td>\n",
       "      <td>NaN</td>\n",
       "      <td>NaN</td>\n",
       "    </tr>\n",
       "  </tbody>\n",
       "</table>\n",
       "</div>"
      ],
      "text/plain": [
       "     A    B    C\n",
       "1  NaN  NaN  NaN\n",
       "2  NaN  NaN  NaN\n",
       "3  NaN  NaN  NaN"
      ]
     },
     "execution_count": 13,
     "metadata": {},
     "output_type": "execute_result"
    }
   ],
   "source": [
    "df"
   ]
  },
  {
   "cell_type": "code",
   "execution_count": null,
   "id": "98cc57e3-0049-46ff-8d0b-b19df9766918",
   "metadata": {},
   "outputs": [],
   "source": [
    "txt = ''\n",
    "for col in ['A', 'B' , 'C', 'D', 'E', 'F', 'G', 'H', 'I', 'J']:\n",
    "    for index, row in df.iterrows():\n",
    "        if ((row[col]) == ''):\n",
    "            txt = f'{txt};'\n",
    "        else:\n",
    "            txt = f'{txt}{row[col]}'\n",
    "    txt = f'{txt}\\n'"
   ]
  },
  {
   "cell_type": "code",
   "execution_count": null,
   "id": "16c2d0c0-ae2c-4f4a-ab7e-735645422ab1",
   "metadata": {},
   "outputs": [],
   "source": [
    "txt = ''\n",
    "cols = 10\n",
    "for index, row in df.iterrows():\n",
    "    for col in (range(cols)):\n",
    "        if ((row[column_number_to_letter(col+1)]) == ''):\n",
    "            txt = f'{txt};'\n",
    "        else:\n",
    "            txt = f'{txt}{row[col]};'\n",
    "    txt = f'{txt}\\n'"
   ]
  },
  {
   "cell_type": "code",
   "execution_count": null,
   "id": "40a06cee-7e46-42c6-ab35-bcf46121d9e3",
   "metadata": {},
   "outputs": [],
   "source": [
    "df"
   ]
  },
  {
   "cell_type": "code",
   "execution_count": null,
   "id": "48940cd4-4d3a-4293-ba6a-ecd2e5fc8955",
   "metadata": {},
   "outputs": [],
   "source": [
    "txt"
   ]
  },
  {
   "cell_type": "code",
   "execution_count": null,
   "id": "6817ebb9-79fc-4673-a70c-50436054a121",
   "metadata": {},
   "outputs": [],
   "source": [
    "f= open(\"guru99.txt\",\"w+\")\n",
    "f.write(txt)\n",
    "f.close()"
   ]
  },
  {
   "cell_type": "code",
   "execution_count": null,
   "id": "e18c58ea-2fa9-4088-8b33-30bae248d4f4",
   "metadata": {},
   "outputs": [],
   "source": [
    "df.columns"
   ]
  },
  {
   "cell_type": "code",
   "execution_count": null,
   "id": "d6159b54-7daf-46b6-b66c-cb57cdee011b",
   "metadata": {},
   "outputs": [],
   "source": [
    "with open('guru99.txt', 'r') as file:\n",
    "    lines = file.readlines()\n",
    "    num_lines = len(lines)\n",
    "    for line in lines:\n",
    "        awa=line.split('\\n')[0]\n",
    "        awa2 = awa.split(';')\n",
    "        print(awa2)\n",
    "        df = pd.concat([df, pd.DataFrame([awa2], columns=df.columns)], ignore_index=True)"
   ]
  },
  {
   "cell_type": "code",
   "execution_count": null,
   "id": "a9539fd4-cca1-409e-9fc1-da6e1b418f80",
   "metadata": {},
   "outputs": [],
   "source": [
    "line"
   ]
  },
  {
   "cell_type": "code",
   "execution_count": null,
   "id": "3cc66d98-86fa-4be2-a81a-df7333e2f358",
   "metadata": {},
   "outputs": [],
   "source": [
    "len(df.columns)"
   ]
  },
  {
   "cell_type": "code",
   "execution_count": null,
   "id": "608609cd-01f0-4752-8b14-b1e0c70539ed",
   "metadata": {},
   "outputs": [],
   "source": [
    "txt = ''\n",
    "for idx, row in enumerate(df.iterrows()):\n",
    "    for col in range(len(df.columns)):\n",
    "        if ((row[idx+1][column_number_to_letter(col+1)]) == ''):\n",
    "            txt = f'{txt};'\n",
    "        elif (col != len(df.columns)):\n",
    "            txt = f'{txt}{row[idx+1][col]}'\n",
    "        else:\n",
    "            txt = f'{txt}{row[idx+1][col]};'\n",
    "    txt = f'{txt}\\n'\n",
    "\n",
    "f= open('awa.txt',\"w+\")\n",
    "f.write(txt)\n",
    "f.close()"
   ]
  },
  {
   "cell_type": "code",
   "execution_count": null,
   "id": "e4b0103b-9573-4703-aa86-1ccda2bc7209",
   "metadata": {},
   "outputs": [],
   "source": [
    "for idx, row in enumerate(df.iterrows()):\n",
    "    print(idx)\n",
    "    print(row[idx+1]['A'])\n",
    "    break"
   ]
  },
  {
   "cell_type": "code",
   "execution_count": null,
   "id": "cba6d520-2763-426b-b2b2-36764adf372b",
   "metadata": {},
   "outputs": [],
   "source": [
    "row fila"
   ]
  },
  {
   "cell_type": "code",
   "execution_count": null,
   "id": "008843ab-ec2b-423f-9c3f-20dc522bd7b1",
   "metadata": {},
   "outputs": [],
   "source": [
    "import pandas as pd\n",
    "\n",
    "df = pd.DataFrame({'A': [1, 2, 3], 'B': [4, 5, 6], 'C': [7, 8, 9]})\n",
    "\n",
    "for i, row in df.iterrows():\n",
    "    for j, cell in row.items():\n",
    "        print(f'Row {i}, Column {j}: {cell}')\n"
   ]
  },
  {
   "cell_type": "code",
   "execution_count": null,
   "id": "59deaadc-bd4e-4779-9609-8e93e7ba74e7",
   "metadata": {},
   "outputs": [],
   "source": [
    "print(row.items())"
   ]
  },
  {
   "cell_type": "code",
   "execution_count": 37,
   "id": "d69d6471-b6af-4e4d-881c-230d513d6f6d",
   "metadata": {},
   "outputs": [
    {
     "name": "stdout",
     "output_type": "stream",
     "text": [
      "5\n"
     ]
    }
   ],
   "source": [
    "eh = \"3;;;''TOTAL';\"\n",
    "print(len(eh.split(';')))"
   ]
  },
  {
   "cell_type": "code",
   "execution_count": 31,
   "id": "9a42cc7b-dd59-42c7-beea-27472cc36fbf",
   "metadata": {},
   "outputs": [
    {
     "name": "stdout",
     "output_type": "stream",
     "text": [
      "\n"
     ]
    }
   ],
   "source": [
    "eh2 = \";;'=A1-A2';;\"\n",
    "print(eh2.split(';')[-1])"
   ]
  },
  {
   "cell_type": "code",
   "execution_count": 35,
   "id": "d68c78e0-2b79-43e2-8f1c-c3ee73a68f0d",
   "metadata": {},
   "outputs": [],
   "source": [
    "awe = eh2.split(';')[-1]"
   ]
  },
  {
   "cell_type": "code",
   "execution_count": 38,
   "id": "2dabbdaf-da04-462c-b052-c5c9d33a4c5a",
   "metadata": {},
   "outputs": [],
   "source": [
    "ncols = []\n",
    "with open('awa.txt', 'r') as file:\n",
    "    lines = file.readlines()\n",
    "    nrows = len(lines)\n",
    "    for line in lines:\n",
    "        ncols.append(len(line.split(';'))-1)\n",
    "    ncols = max(ncols)"
   ]
  },
  {
   "cell_type": "code",
   "execution_count": 39,
   "id": "f2ae8455-03f4-4b5f-b697-5b53ec8ad96b",
   "metadata": {},
   "outputs": [
    {
     "data": {
      "text/plain": [
       "4"
      ]
     },
     "execution_count": 39,
     "metadata": {},
     "output_type": "execute_result"
    }
   ],
   "source": [
    "ncols"
   ]
  },
  {
   "cell_type": "code",
   "execution_count": 36,
   "id": "1d8a0f71-ce4a-4f02-b98f-67b0e34aff01",
   "metadata": {},
   "outputs": [
    {
     "data": {
      "text/plain": [
       "''"
      ]
     },
     "execution_count": 36,
     "metadata": {},
     "output_type": "execute_result"
    }
   ],
   "source": [
    "awe"
   ]
  },
  {
   "cell_type": "code",
   "execution_count": 55,
   "id": "96df3bf0-46c3-43e7-b2a0-b7aadf6b1991",
   "metadata": {},
   "outputs": [],
   "source": [
    "import re\n",
    "s = \"AA13\"\n",
    "digits = int(re.findall(r'\\d+', s)[0])\n",
    "letters = re.findall(r'[a-zA-Z]+', s)[0]"
   ]
  },
  {
   "cell_type": "code",
   "execution_count": 54,
   "id": "b62bfe64-ca2c-4911-9c33-3b65aa5ad5c9",
   "metadata": {},
   "outputs": [
    {
     "data": {
      "text/plain": [
       "13"
      ]
     },
     "execution_count": 54,
     "metadata": {},
     "output_type": "execute_result"
    }
   ],
   "source": [
    "int(digits[0])"
   ]
  },
  {
   "cell_type": "code",
   "execution_count": 53,
   "id": "c08aaee3-55a0-44e1-9a42-3d3d7ea12db2",
   "metadata": {},
   "outputs": [
    {
     "data": {
      "text/plain": [
       "'AA'"
      ]
     },
     "execution_count": 53,
     "metadata": {},
     "output_type": "execute_result"
    }
   ],
   "source": [
    "letters[0]"
   ]
  },
  {
   "cell_type": "code",
   "execution_count": 56,
   "id": "c63b61ab-5e45-401d-8ff9-638fccc9671a",
   "metadata": {},
   "outputs": [
    {
     "data": {
      "text/plain": [
       "13"
      ]
     },
     "execution_count": 56,
     "metadata": {},
     "output_type": "execute_result"
    }
   ],
   "source": [
    "digits"
   ]
  },
  {
   "cell_type": "code",
   "execution_count": 57,
   "id": "cea37143-8a2b-47aa-8c82-a4d6392c2d66",
   "metadata": {},
   "outputs": [
    {
     "data": {
      "text/plain": [
       "'AA'"
      ]
     },
     "execution_count": 57,
     "metadata": {},
     "output_type": "execute_result"
    }
   ],
   "source": [
    "letters"
   ]
  },
  {
   "cell_type": "code",
   "execution_count": null,
   "id": "2b6116c4-e54c-4375-b419-587bde8dd2a8",
   "metadata": {},
   "outputs": [],
   "source": []
  }
 ],
 "metadata": {
  "kernelspec": {
   "display_name": "Python 3 (ipykernel)",
   "language": "python",
   "name": "python3"
  },
  "language_info": {
   "codemirror_mode": {
    "name": "ipython",
    "version": 3
   },
   "file_extension": ".py",
   "mimetype": "text/x-python",
   "name": "python",
   "nbconvert_exporter": "python",
   "pygments_lexer": "ipython3",
   "version": "3.9.2"
  }
 },
 "nbformat": 4,
 "nbformat_minor": 5
}
